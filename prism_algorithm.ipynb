{
 "cells": [
  {
   "cell_type": "code",
   "execution_count": 1,
   "metadata": {},
   "outputs": [],
   "source": [
    "class Rule:\n",
    "    def __init__ (self, attributes, values, classification, accuracy):\n",
    "        self.attributes = attributes\n",
    "        self.values = values\n",
    "        self.classification = classification\n",
    "        self.accuracy = accuracy\n",
    "    def print_self(self):\n",
    "        print(\"attr\", self.attributes)\n",
    "        print(\"values\", self.values)\n",
    "        print(\"acc\", self.accuracy)"
   ]
  },
  {
   "cell_type": "code",
   "execution_count": 2,
   "metadata": {},
   "outputs": [],
   "source": [
    "from pandas.api.types import is_numeric_dtype\n",
    "def refine_rows(data, rule):\n",
    "    rows = data.copy()\n",
    "    for i in range(len(rule.attributes)):\n",
    "        if(is_numeric_dtype(rows[rule.attributes[i]])):\n",
    "            rows = rows[rows[rule.attributes[i]] >= rule.values[i]] #for numeric attribute interpret as greater than or equal to\n",
    "        else:\n",
    "            rows = rows[rows[rule.attributes[i]] == rule.values[i]]\n",
    "    return rows"
   ]
  },
  {
   "cell_type": "code",
   "execution_count": 3,
   "metadata": {},
   "outputs": [],
   "source": [
    "def find_accuracy(data, rule, c, attr):\n",
    "    rows = refine_rows(data, rule)\n",
    "    if len(rows) == 0:\n",
    "        return 0\n",
    "    acc = len(rows[rows[attr] == c])/len(rows) #number correct over total rows\n",
    "    return acc"
   ]
  },
  {
   "cell_type": "code",
   "execution_count": 4,
   "metadata": {},
   "outputs": [],
   "source": [
    "def find_coverage(data, rule):\n",
    "    rows = refine_rows(data, rule)\n",
    "    return len(rows) #return length of rows left after rule is applied"
   ]
  },
  {
   "cell_type": "code",
   "execution_count": 5,
   "metadata": {},
   "outputs": [],
   "source": [
    "def remove_rows(data, rule):\n",
    "    rows = refine_rows(data, rule)\n",
    "    return data[~data.index.isin(rows.index)]"
   ]
  },
  {
   "cell_type": "code",
   "execution_count": 6,
   "metadata": {},
   "outputs": [
    {
     "data": {
      "text/plain": [
       "'\\nProcedure learn-one-rule (set E):\\n  For each class C\\n    Initialize EC to all instances with class label C\\n    Create a rule R with an empty left-hand side that predicts class C\\n    Until R is perfect (or there are no more attributes to use) do\\n        For each attribute Ai not mentioned in R, and each attr. value vj,\\n            consider adding the condition Ai = vj to the LHS of R\\n        Select Ak = vm to maximize the accuracy: correct/all\\n            (break ties by choosing the condition with the largest correct)\\n        Add condition Ak = vm to the LHS of rule R\\n    Remove the instances covered by R from E\\n    Return remaining instances\\n\\n'"
      ]
     },
     "execution_count": 6,
     "metadata": {},
     "output_type": "execute_result"
    }
   ],
   "source": [
    "def learn_one_rule(data, attr, classes, acc_thresh=0.9, cvg_thresh=20):\n",
    "    all_class_rules = []\n",
    "    #iterate over all possible classifications\n",
    "    for c in classes:\n",
    "        rule = Rule([],[],None,0)\n",
    "        rule.accuracy = find_accuracy(data, rule, c, attr[-1])\n",
    "        rule.classification = c\n",
    "        rules_list = []\n",
    "        rows = data[data[attr[-1]] == c]\n",
    "        temp = attr[:-1].copy()\n",
    "        i = len(temp)\n",
    "        while rule.accuracy < acc_thresh:\n",
    "            # find all attribute-value pairs\n",
    "            for a in temp: \n",
    "                vals = rows[a].unique() #values of an attribute\n",
    "                for v in vals:\n",
    "                    att = rule.attributes.copy()\n",
    "                    att.append(a)\n",
    "                    vv = rule.values.copy()\n",
    "                    vv.append(v)\n",
    "                    temp_rule = Rule(att, vv, rule.classification, None) #new attribute value pairs are added to list\n",
    "                    temp_rule.accuracy = find_accuracy(data, temp_rule, c, attr[-1])\n",
    "                    rules_list.append(temp_rule) #all new possible rules added to list\n",
    "            \n",
    "            #find rule with best accuracy\n",
    "            best_rule = rules_list[0]\n",
    "            for r in rules_list:\n",
    "                if r.accuracy >= best_rule.accuracy and find_coverage(data, r) >= cvg_thresh:\n",
    "                    if r.accuracy == best_rule.accuracy: #coverage breaks ties\n",
    "                        if find_coverage(data, r) < find_coverage(data, best_rule):\n",
    "                            continue\n",
    "                    best_rule = r\n",
    "            \n",
    "            #set this rule to the best rule and remove from attribute list\n",
    "            if best_rule.accuracy > rule.accuracy or (best_rule.accuracy == rule.accuracy and find_coverage(data, best_rule) > find_coverage(data, rule)):\n",
    "                rule = best_rule\n",
    "                if rule.attributes[-1] in temp:\n",
    "                    temp.remove(rule.attributes[-1])\n",
    "            \n",
    "            #break while loop if attribute list is empty OR if you have already explored all attribute combinations\n",
    "            i-=1\n",
    "            if i < 0 or len(temp) == 0:\n",
    "                break\n",
    "        all_class_rules.append(rule)\n",
    "    \n",
    "    #find best rule out of rules for all classes\n",
    "    best_rule = all_class_rules[0]\n",
    "    for r in all_class_rules:\n",
    "        if r.accuracy >= best_rule.accuracy and find_coverage(data, r) >= cvg_thresh:\n",
    "            if r.accuracy == best_rule.accuracy:\n",
    "                if find_coverage(data, r) < find_coverage(data, best_rule):\n",
    "                    continue\n",
    "            best_rule = r\n",
    "    \n",
    "    return best_rule, remove_rows(data, best_rule)\n",
    "    #remove rows covered by R from E\n",
    "    #return remaining rows\n",
    "    \n",
    "\"\"\"\n",
    "Procedure learn-one-rule (set E):\n",
    "  For each class C\n",
    "    Initialize EC to all instances with class label C\n",
    "    Create a rule R with an empty left-hand side that predicts class C\n",
    "    Until R is perfect (or there are no more attributes to use) do\n",
    "        For each attribute Ai not mentioned in R, and each attr. value vj,\n",
    "            consider adding the condition Ai = vj to the LHS of R\n",
    "        Select Ak = vm to maximize the accuracy: correct/all\n",
    "            (break ties by choosing the condition with the largest correct)\n",
    "        Add condition Ak = vm to the LHS of rule R\n",
    "    Remove the instances covered by R from E\n",
    "    Return remaining instances\n",
    "\n",
    "\"\"\""
   ]
  },
  {
   "cell_type": "code",
   "execution_count": 7,
   "metadata": {},
   "outputs": [],
   "source": [
    "import pandas as pd\n",
    "data = pd.read_csv(\"../../ml_datasets/covid_categorical_good.csv\")\n",
    "data = data.dropna(how=\"any\")\n",
    "data_rows = data.to_numpy().tolist()\n",
    "columns_list = data.columns.to_numpy().tolist()"
   ]
  },
  {
   "cell_type": "code",
   "execution_count": 8,
   "metadata": {},
   "outputs": [
    {
     "name": "stdout",
     "output_type": "stream",
     "text": [
      "attr ['hypertension']\n",
      "values ['no']\n",
      "acc 0.9118543984283984\n",
      "covg 175108\n",
      "--> alive\n",
      "attr ['asthma', 'imm_supr', 'sex']\n",
      "values ['yes', 'yes', 'female']\n",
      "acc 0.9047619047619048\n",
      "covg 110\n",
      "--> alive\n",
      "attr ['asthma', 'diabetes', 'sex', 'tobacco']\n",
      "values ['yes', 'no', 'female', 'yes']\n",
      "acc 0.9615384615384616\n",
      "covg 170\n",
      "--> alive\n",
      "attr ['asthma', 'sex', 'tobacco']\n",
      "values ['yes', 'female', 'yes']\n",
      "acc 0.9545454545454546\n",
      "covg 230\n",
      "--> alive\n",
      "attr ['asthma', 'diabetes', 'sex', 'obesity', 'cardiovascular', 'age']\n",
      "values ['yes', 'no', 'female', 'no', 'no', 71]\n",
      "acc 0.9130434782608695\n",
      "covg 63\n",
      "--> alive\n",
      "attr ['asthma', 'diabetes', 'sex', 'obesity', 'copd', 'cardiovascular', 'renal_chronic']\n",
      "values ['yes', 'no', 'female', 'no', 'no', 'no', 'no']\n",
      "acc 0.9014778325123153\n",
      "covg 2031\n",
      "--> alive\n",
      "attr ['diabetes', 'sex', 'asthma', 'obesity', 'renal_chronic', 'copd', 'cardiovascular', 'age']\n",
      "values ['no', 'female', 'yes', 'yes', 'no', 'no', 'no', 66]\n",
      "acc 0.9090909090909091\n",
      "covg 33\n",
      "--> alive\n"
     ]
    }
   ],
   "source": [
    "rows = data.copy()\n",
    "i = len(rows)/20 #divide by 20 since each rule will cover at least 20 elements\n",
    "while len(rows) != 0:\n",
    "    rule, rows = learn_one_rule(rows, columns_list, ['dead', 'alive']) #learn one rule then repeat algorithm on remaining rows\n",
    "    if i < 0 or rule.accuracy < 0.9: #break after rules stop having good accuracy\n",
    "        break\n",
    "    rule.print_self()\n",
    "    print(\"covg\", find_coverage(data, rule))\n",
    "    print(\"-->\", rule.classification) \n",
    "    i -= 1"
   ]
  },
  {
   "cell_type": "code",
   "execution_count": null,
   "metadata": {},
   "outputs": [],
   "source": []
  },
  {
   "cell_type": "markdown",
   "metadata": {},
   "source": [
    "# Summary #\n",
    "<p> With an accuracy threshold of 0.9 and a coverage threshold of 20, many rules were produced as combinations of different attributes.  I was suprised that many patients who had asthma were not affected by Covid. Additionally, I was surprised that age wasn't a large factor.  Also, a large percentage of females who smoke tobacco and had asmtha were reported alive.  The top rules that were produced with accuracy > 0.9 were:</p>\n",
    "<ul>\n",
    "    <li>if hypertension=no --> alive</li>\n",
    "    <li>if asthma=yes, imm_supr=yes, sex=female --> alive</li>\n",
    "    <li>if asthma=yes, diabetes=no, sex=female. tobacco=yes --> alive</li>\n",
    "    <li>if asthma=yes, sex=female, tobacco=yes --> alive</li>\n",
    "    <li>if asthma=yes, diabetes=no, sex=female, obesity=no, cardiovascular=no, age>=71 --> alive</li>\n",
    "    <li>if asthma=yes, diabetes=no, sex=female, obesity=no, copd=no, cardiovascular=no, renal_chronic=no --> alive</li>\n",
    "    <li>if diabetes=no, sex=female, asthma=yes, obesity=yes, renal_chronic=no, copd=no, cardiovascular=no, age>=66 --> alive</li>\n",
    "    \n",
    "I was surprised to find that a rule could not be found for the death classification with these values for accuracy and coverage thresholds."
   ]
  },
  {
   "cell_type": "code",
   "execution_count": null,
   "metadata": {},
   "outputs": [],
   "source": []
  }
 ],
 "metadata": {
  "kernelspec": {
   "display_name": "Python 3",
   "language": "python",
   "name": "python3"
  },
  "language_info": {
   "codemirror_mode": {
    "name": "ipython",
    "version": 3
   },
   "file_extension": ".py",
   "mimetype": "text/x-python",
   "name": "python",
   "nbconvert_exporter": "python",
   "pygments_lexer": "ipython3",
   "version": "3.8.3"
  }
 },
 "nbformat": 4,
 "nbformat_minor": 4
}
